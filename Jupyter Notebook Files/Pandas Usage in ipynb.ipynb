{
 "cells": [
  {
   "cell_type": "code",
   "execution_count": 6,
   "metadata": {},
   "outputs": [],
   "source": [
    "'''\n",
    "Descriptive Statistics With Pandas and ipynb\n",
    "Vidur Modgil\n",
    "Internship\n",
    "'''\n",
    "\n",
    "# Imports\n",
    "import pandas as pd"
   ]
  },
  {
   "cell_type": "code",
   "execution_count": 7,
   "metadata": {},
   "outputs": [],
   "source": [
    "data = pd.read_csv('/Users/vidurmodgil/Desktop/DATA/Internship/Internship-Data/VIDURSAMPLE.csv')"
   ]
  },
  {
   "cell_type": "code",
   "execution_count": 8,
   "metadata": {},
   "outputs": [
    {
     "data": {
      "text/html": [
       "<div>\n",
       "<style scoped>\n",
       "    .dataframe tbody tr th:only-of-type {\n",
       "        vertical-align: middle;\n",
       "    }\n",
       "\n",
       "    .dataframe tbody tr th {\n",
       "        vertical-align: top;\n",
       "    }\n",
       "\n",
       "    .dataframe thead th {\n",
       "        text-align: right;\n",
       "    }\n",
       "</style>\n",
       "<table border=\"1\" class=\"dataframe\">\n",
       "  <thead>\n",
       "    <tr style=\"text-align: right;\">\n",
       "      <th></th>\n",
       "      <th>TRADES</th>\n",
       "      <th>AGE</th>\n",
       "      <th>BRPCTSAT</th>\n",
       "      <th>RBAL</th>\n",
       "      <th>DELQID</th>\n",
       "      <th>CRELIM</th>\n",
       "      <th>goodbad</th>\n",
       "    </tr>\n",
       "  </thead>\n",
       "  <tbody>\n",
       "    <tr>\n",
       "      <th>0</th>\n",
       "      <td>34</td>\n",
       "      <td>49</td>\n",
       "      <td>0.9091</td>\n",
       "      <td>36697</td>\n",
       "      <td>0</td>\n",
       "      <td>5900</td>\n",
       "      <td>0</td>\n",
       "    </tr>\n",
       "    <tr>\n",
       "      <th>1</th>\n",
       "      <td>35</td>\n",
       "      <td>48</td>\n",
       "      <td>0.1667</td>\n",
       "      <td>6686</td>\n",
       "      <td>7</td>\n",
       "      <td>4950</td>\n",
       "      <td>1</td>\n",
       "    </tr>\n",
       "    <tr>\n",
       "      <th>2</th>\n",
       "      <td>33</td>\n",
       "      <td>47</td>\n",
       "      <td>0.5385</td>\n",
       "      <td>15583</td>\n",
       "      <td>1</td>\n",
       "      <td>1300</td>\n",
       "      <td>0</td>\n",
       "    </tr>\n",
       "    <tr>\n",
       "      <th>3</th>\n",
       "      <td>34</td>\n",
       "      <td>42</td>\n",
       "      <td>0.5000</td>\n",
       "      <td>7180</td>\n",
       "      <td>0</td>\n",
       "      <td>3350</td>\n",
       "      <td>0</td>\n",
       "    </tr>\n",
       "    <tr>\n",
       "      <th>4</th>\n",
       "      <td>18</td>\n",
       "      <td>48</td>\n",
       "      <td>0.7500</td>\n",
       "      <td>26142</td>\n",
       "      <td>0</td>\n",
       "      <td>1500</td>\n",
       "      <td>0</td>\n",
       "    </tr>\n",
       "    <tr>\n",
       "      <th>...</th>\n",
       "      <td>...</td>\n",
       "      <td>...</td>\n",
       "      <td>...</td>\n",
       "      <td>...</td>\n",
       "      <td>...</td>\n",
       "      <td>...</td>\n",
       "      <td>...</td>\n",
       "    </tr>\n",
       "    <tr>\n",
       "      <th>99995</th>\n",
       "      <td>3</td>\n",
       "      <td>19</td>\n",
       "      <td>1.0000</td>\n",
       "      <td>0</td>\n",
       "      <td>7</td>\n",
       "      <td>1000</td>\n",
       "      <td>1</td>\n",
       "    </tr>\n",
       "    <tr>\n",
       "      <th>99996</th>\n",
       "      <td>22</td>\n",
       "      <td>75</td>\n",
       "      <td>0.9000</td>\n",
       "      <td>6971</td>\n",
       "      <td>0</td>\n",
       "      <td>2250</td>\n",
       "      <td>0</td>\n",
       "    </tr>\n",
       "    <tr>\n",
       "      <th>99997</th>\n",
       "      <td>8</td>\n",
       "      <td>35</td>\n",
       "      <td>1.0000</td>\n",
       "      <td>1903</td>\n",
       "      <td>1</td>\n",
       "      <td>1750</td>\n",
       "      <td>0</td>\n",
       "    </tr>\n",
       "    <tr>\n",
       "      <th>99998</th>\n",
       "      <td>37</td>\n",
       "      <td>55</td>\n",
       "      <td>0.6667</td>\n",
       "      <td>4032</td>\n",
       "      <td>0</td>\n",
       "      <td>2500</td>\n",
       "      <td>0</td>\n",
       "    </tr>\n",
       "    <tr>\n",
       "      <th>99999</th>\n",
       "      <td>28</td>\n",
       "      <td>41</td>\n",
       "      <td>0.3333</td>\n",
       "      <td>0</td>\n",
       "      <td>0</td>\n",
       "      <td>1500</td>\n",
       "      <td>0</td>\n",
       "    </tr>\n",
       "  </tbody>\n",
       "</table>\n",
       "<p>100000 rows × 7 columns</p>\n",
       "</div>"
      ],
      "text/plain": [
       "       TRADES  AGE  BRPCTSAT   RBAL  DELQID  CRELIM  goodbad\n",
       "0          34   49    0.9091  36697       0    5900        0\n",
       "1          35   48    0.1667   6686       7    4950        1\n",
       "2          33   47    0.5385  15583       1    1300        0\n",
       "3          34   42    0.5000   7180       0    3350        0\n",
       "4          18   48    0.7500  26142       0    1500        0\n",
       "...       ...  ...       ...    ...     ...     ...      ...\n",
       "99995       3   19    1.0000      0       7    1000        1\n",
       "99996      22   75    0.9000   6971       0    2250        0\n",
       "99997       8   35    1.0000   1903       1    1750        0\n",
       "99998      37   55    0.6667   4032       0    2500        0\n",
       "99999      28   41    0.3333      0       0    1500        0\n",
       "\n",
       "[100000 rows x 7 columns]"
      ]
     },
     "execution_count": 8,
     "metadata": {},
     "output_type": "execute_result"
    }
   ],
   "source": [
    "data\n",
    "data.drop('MATCHKEY', axis=1)"
   ]
  },
  {
   "cell_type": "code",
   "execution_count": 9,
   "metadata": {},
   "outputs": [
    {
     "data": {
      "text/html": [
       "<div>\n",
       "<style scoped>\n",
       "    .dataframe tbody tr th:only-of-type {\n",
       "        vertical-align: middle;\n",
       "    }\n",
       "\n",
       "    .dataframe tbody tr th {\n",
       "        vertical-align: top;\n",
       "    }\n",
       "\n",
       "    .dataframe thead th {\n",
       "        text-align: right;\n",
       "    }\n",
       "</style>\n",
       "<table border=\"1\" class=\"dataframe\">\n",
       "  <thead>\n",
       "    <tr style=\"text-align: right;\">\n",
       "      <th></th>\n",
       "      <th>TRADES</th>\n",
       "      <th>AGE</th>\n",
       "      <th>BRPCTSAT</th>\n",
       "      <th>RBAL</th>\n",
       "      <th>MATCHKEY</th>\n",
       "      <th>DELQID</th>\n",
       "      <th>CRELIM</th>\n",
       "      <th>goodbad</th>\n",
       "    </tr>\n",
       "  </thead>\n",
       "  <tbody>\n",
       "    <tr>\n",
       "      <th>0</th>\n",
       "      <td>34</td>\n",
       "      <td>49</td>\n",
       "      <td>0.9091</td>\n",
       "      <td>36697</td>\n",
       "      <td>1333870</td>\n",
       "      <td>0</td>\n",
       "      <td>5900</td>\n",
       "      <td>0</td>\n",
       "    </tr>\n",
       "    <tr>\n",
       "      <th>1</th>\n",
       "      <td>35</td>\n",
       "      <td>48</td>\n",
       "      <td>0.1667</td>\n",
       "      <td>6686</td>\n",
       "      <td>1334068</td>\n",
       "      <td>7</td>\n",
       "      <td>4950</td>\n",
       "      <td>1</td>\n",
       "    </tr>\n",
       "    <tr>\n",
       "      <th>2</th>\n",
       "      <td>33</td>\n",
       "      <td>47</td>\n",
       "      <td>0.5385</td>\n",
       "      <td>15583</td>\n",
       "      <td>1334363</td>\n",
       "      <td>1</td>\n",
       "      <td>1300</td>\n",
       "      <td>0</td>\n",
       "    </tr>\n",
       "    <tr>\n",
       "      <th>3</th>\n",
       "      <td>34</td>\n",
       "      <td>42</td>\n",
       "      <td>0.5000</td>\n",
       "      <td>7180</td>\n",
       "      <td>1334424</td>\n",
       "      <td>0</td>\n",
       "      <td>3350</td>\n",
       "      <td>0</td>\n",
       "    </tr>\n",
       "    <tr>\n",
       "      <th>4</th>\n",
       "      <td>18</td>\n",
       "      <td>48</td>\n",
       "      <td>0.7500</td>\n",
       "      <td>26142</td>\n",
       "      <td>1334480</td>\n",
       "      <td>0</td>\n",
       "      <td>1500</td>\n",
       "      <td>0</td>\n",
       "    </tr>\n",
       "    <tr>\n",
       "      <th>...</th>\n",
       "      <td>...</td>\n",
       "      <td>...</td>\n",
       "      <td>...</td>\n",
       "      <td>...</td>\n",
       "      <td>...</td>\n",
       "      <td>...</td>\n",
       "      <td>...</td>\n",
       "      <td>...</td>\n",
       "    </tr>\n",
       "    <tr>\n",
       "      <th>99995</th>\n",
       "      <td>3</td>\n",
       "      <td>19</td>\n",
       "      <td>1.0000</td>\n",
       "      <td>0</td>\n",
       "      <td>100408978</td>\n",
       "      <td>7</td>\n",
       "      <td>1000</td>\n",
       "      <td>1</td>\n",
       "    </tr>\n",
       "    <tr>\n",
       "      <th>99996</th>\n",
       "      <td>22</td>\n",
       "      <td>75</td>\n",
       "      <td>0.9000</td>\n",
       "      <td>6971</td>\n",
       "      <td>100408988</td>\n",
       "      <td>0</td>\n",
       "      <td>2250</td>\n",
       "      <td>0</td>\n",
       "    </tr>\n",
       "    <tr>\n",
       "      <th>99997</th>\n",
       "      <td>8</td>\n",
       "      <td>35</td>\n",
       "      <td>1.0000</td>\n",
       "      <td>1903</td>\n",
       "      <td>100408990</td>\n",
       "      <td>1</td>\n",
       "      <td>1750</td>\n",
       "      <td>0</td>\n",
       "    </tr>\n",
       "    <tr>\n",
       "      <th>99998</th>\n",
       "      <td>37</td>\n",
       "      <td>55</td>\n",
       "      <td>0.6667</td>\n",
       "      <td>4032</td>\n",
       "      <td>100408993</td>\n",
       "      <td>0</td>\n",
       "      <td>2500</td>\n",
       "      <td>0</td>\n",
       "    </tr>\n",
       "    <tr>\n",
       "      <th>99999</th>\n",
       "      <td>28</td>\n",
       "      <td>41</td>\n",
       "      <td>0.3333</td>\n",
       "      <td>0</td>\n",
       "      <td>100409002</td>\n",
       "      <td>0</td>\n",
       "      <td>1500</td>\n",
       "      <td>0</td>\n",
       "    </tr>\n",
       "  </tbody>\n",
       "</table>\n",
       "<p>100000 rows × 8 columns</p>\n",
       "</div>"
      ],
      "text/plain": [
       "       TRADES  AGE  BRPCTSAT   RBAL   MATCHKEY  DELQID  CRELIM  goodbad\n",
       "0          34   49    0.9091  36697    1333870       0    5900        0\n",
       "1          35   48    0.1667   6686    1334068       7    4950        1\n",
       "2          33   47    0.5385  15583    1334363       1    1300        0\n",
       "3          34   42    0.5000   7180    1334424       0    3350        0\n",
       "4          18   48    0.7500  26142    1334480       0    1500        0\n",
       "...       ...  ...       ...    ...        ...     ...     ...      ...\n",
       "99995       3   19    1.0000      0  100408978       7    1000        1\n",
       "99996      22   75    0.9000   6971  100408988       0    2250        0\n",
       "99997       8   35    1.0000   1903  100408990       1    1750        0\n",
       "99998      37   55    0.6667   4032  100408993       0    2500        0\n",
       "99999      28   41    0.3333      0  100409002       0    1500        0\n",
       "\n",
       "[100000 rows x 8 columns]"
      ]
     },
     "execution_count": 9,
     "metadata": {},
     "output_type": "execute_result"
    }
   ],
   "source": [
    "data.sort_values(['AGE'], ascending=True)\n",
    "data"
   ]
  },
  {
   "cell_type": "code",
   "execution_count": 10,
   "metadata": {},
   "outputs": [
    {
     "data": {
      "text/html": [
       "<div>\n",
       "<style scoped>\n",
       "    .dataframe tbody tr th:only-of-type {\n",
       "        vertical-align: middle;\n",
       "    }\n",
       "\n",
       "    .dataframe tbody tr th {\n",
       "        vertical-align: top;\n",
       "    }\n",
       "\n",
       "    .dataframe thead th {\n",
       "        text-align: right;\n",
       "    }\n",
       "</style>\n",
       "<table border=\"1\" class=\"dataframe\">\n",
       "  <thead>\n",
       "    <tr style=\"text-align: right;\">\n",
       "      <th></th>\n",
       "      <th>TRADES</th>\n",
       "      <th>AGE</th>\n",
       "      <th>BRPCTSAT</th>\n",
       "      <th>RBAL</th>\n",
       "      <th>MATCHKEY</th>\n",
       "      <th>DELQID</th>\n",
       "      <th>CRELIM</th>\n",
       "      <th>goodbad</th>\n",
       "    </tr>\n",
       "  </thead>\n",
       "  <tbody>\n",
       "    <tr>\n",
       "      <th>0</th>\n",
       "      <td>34</td>\n",
       "      <td>49</td>\n",
       "      <td>0.9091</td>\n",
       "      <td>36697</td>\n",
       "      <td>1333870</td>\n",
       "      <td>0</td>\n",
       "      <td>5900</td>\n",
       "      <td>0</td>\n",
       "    </tr>\n",
       "    <tr>\n",
       "      <th>1</th>\n",
       "      <td>35</td>\n",
       "      <td>48</td>\n",
       "      <td>0.1667</td>\n",
       "      <td>6686</td>\n",
       "      <td>1334068</td>\n",
       "      <td>7</td>\n",
       "      <td>4950</td>\n",
       "      <td>1</td>\n",
       "    </tr>\n",
       "    <tr>\n",
       "      <th>2</th>\n",
       "      <td>33</td>\n",
       "      <td>47</td>\n",
       "      <td>0.5385</td>\n",
       "      <td>15583</td>\n",
       "      <td>1334363</td>\n",
       "      <td>1</td>\n",
       "      <td>1300</td>\n",
       "      <td>0</td>\n",
       "    </tr>\n",
       "    <tr>\n",
       "      <th>3</th>\n",
       "      <td>34</td>\n",
       "      <td>42</td>\n",
       "      <td>0.5000</td>\n",
       "      <td>7180</td>\n",
       "      <td>1334424</td>\n",
       "      <td>0</td>\n",
       "      <td>3350</td>\n",
       "      <td>0</td>\n",
       "    </tr>\n",
       "    <tr>\n",
       "      <th>4</th>\n",
       "      <td>18</td>\n",
       "      <td>48</td>\n",
       "      <td>0.7500</td>\n",
       "      <td>26142</td>\n",
       "      <td>1334480</td>\n",
       "      <td>0</td>\n",
       "      <td>1500</td>\n",
       "      <td>0</td>\n",
       "    </tr>\n",
       "    <tr>\n",
       "      <th>...</th>\n",
       "      <td>...</td>\n",
       "      <td>...</td>\n",
       "      <td>...</td>\n",
       "      <td>...</td>\n",
       "      <td>...</td>\n",
       "      <td>...</td>\n",
       "      <td>...</td>\n",
       "      <td>...</td>\n",
       "    </tr>\n",
       "    <tr>\n",
       "      <th>99995</th>\n",
       "      <td>3</td>\n",
       "      <td>19</td>\n",
       "      <td>1.0000</td>\n",
       "      <td>0</td>\n",
       "      <td>100408978</td>\n",
       "      <td>7</td>\n",
       "      <td>1000</td>\n",
       "      <td>1</td>\n",
       "    </tr>\n",
       "    <tr>\n",
       "      <th>99996</th>\n",
       "      <td>22</td>\n",
       "      <td>75</td>\n",
       "      <td>0.9000</td>\n",
       "      <td>6971</td>\n",
       "      <td>100408988</td>\n",
       "      <td>0</td>\n",
       "      <td>2250</td>\n",
       "      <td>0</td>\n",
       "    </tr>\n",
       "    <tr>\n",
       "      <th>99997</th>\n",
       "      <td>8</td>\n",
       "      <td>35</td>\n",
       "      <td>1.0000</td>\n",
       "      <td>1903</td>\n",
       "      <td>100408990</td>\n",
       "      <td>1</td>\n",
       "      <td>1750</td>\n",
       "      <td>0</td>\n",
       "    </tr>\n",
       "    <tr>\n",
       "      <th>99998</th>\n",
       "      <td>37</td>\n",
       "      <td>55</td>\n",
       "      <td>0.6667</td>\n",
       "      <td>4032</td>\n",
       "      <td>100408993</td>\n",
       "      <td>0</td>\n",
       "      <td>2500</td>\n",
       "      <td>0</td>\n",
       "    </tr>\n",
       "    <tr>\n",
       "      <th>99999</th>\n",
       "      <td>28</td>\n",
       "      <td>41</td>\n",
       "      <td>0.3333</td>\n",
       "      <td>0</td>\n",
       "      <td>100409002</td>\n",
       "      <td>0</td>\n",
       "      <td>1500</td>\n",
       "      <td>0</td>\n",
       "    </tr>\n",
       "  </tbody>\n",
       "</table>\n",
       "<p>100000 rows × 8 columns</p>\n",
       "</div>"
      ],
      "text/plain": [
       "       TRADES  AGE  BRPCTSAT   RBAL   MATCHKEY  DELQID  CRELIM  goodbad\n",
       "0          34   49    0.9091  36697    1333870       0    5900        0\n",
       "1          35   48    0.1667   6686    1334068       7    4950        1\n",
       "2          33   47    0.5385  15583    1334363       1    1300        0\n",
       "3          34   42    0.5000   7180    1334424       0    3350        0\n",
       "4          18   48    0.7500  26142    1334480       0    1500        0\n",
       "...       ...  ...       ...    ...        ...     ...     ...      ...\n",
       "99995       3   19    1.0000      0  100408978       7    1000        1\n",
       "99996      22   75    0.9000   6971  100408988       0    2250        0\n",
       "99997       8   35    1.0000   1903  100408990       1    1750        0\n",
       "99998      37   55    0.6667   4032  100408993       0    2500        0\n",
       "99999      28   41    0.3333      0  100409002       0    1500        0\n",
       "\n",
       "[100000 rows x 8 columns]"
      ]
     },
     "execution_count": 10,
     "metadata": {},
     "output_type": "execute_result"
    }
   ],
   "source": [
    "df = pd.DataFrame.from_dict(data)\n",
    "df"
   ]
  },
  {
   "cell_type": "code",
   "execution_count": 11,
   "metadata": {},
   "outputs": [
    {
     "data": {
      "text/html": [
       "<div>\n",
       "<style scoped>\n",
       "    .dataframe tbody tr th:only-of-type {\n",
       "        vertical-align: middle;\n",
       "    }\n",
       "\n",
       "    .dataframe tbody tr th {\n",
       "        vertical-align: top;\n",
       "    }\n",
       "\n",
       "    .dataframe thead th {\n",
       "        text-align: right;\n",
       "    }\n",
       "</style>\n",
       "<table border=\"1\" class=\"dataframe\">\n",
       "  <thead>\n",
       "    <tr style=\"text-align: right;\">\n",
       "      <th></th>\n",
       "      <th>TRADES</th>\n",
       "      <th>AGE</th>\n",
       "      <th>BRPCTSAT</th>\n",
       "      <th>RBAL</th>\n",
       "      <th>MATCHKEY</th>\n",
       "      <th>DELQID</th>\n",
       "      <th>CRELIM</th>\n",
       "      <th>goodbad</th>\n",
       "    </tr>\n",
       "  </thead>\n",
       "  <tbody>\n",
       "    <tr>\n",
       "      <th>count</th>\n",
       "      <td>100000.000000</td>\n",
       "      <td>100000.000000</td>\n",
       "      <td>100000.000000</td>\n",
       "      <td>100000.000000</td>\n",
       "      <td>1.000000e+05</td>\n",
       "      <td>100000.000000</td>\n",
       "      <td>100000.000000</td>\n",
       "      <td>100000.000000</td>\n",
       "    </tr>\n",
       "    <tr>\n",
       "      <th>mean</th>\n",
       "      <td>18.780900</td>\n",
       "      <td>47.649340</td>\n",
       "      <td>0.682618</td>\n",
       "      <td>7227.307740</td>\n",
       "      <td>1.351786e+07</td>\n",
       "      <td>1.293670</td>\n",
       "      <td>2206.648510</td>\n",
       "      <td>0.175700</td>\n",
       "    </tr>\n",
       "    <tr>\n",
       "      <th>std</th>\n",
       "      <td>10.312875</td>\n",
       "      <td>15.040437</td>\n",
       "      <td>0.290981</td>\n",
       "      <td>8390.777673</td>\n",
       "      <td>1.622330e+07</td>\n",
       "      <td>2.248541</td>\n",
       "      <td>1441.512182</td>\n",
       "      <td>0.380567</td>\n",
       "    </tr>\n",
       "    <tr>\n",
       "      <th>min</th>\n",
       "      <td>1.000000</td>\n",
       "      <td>18.000000</td>\n",
       "      <td>0.000000</td>\n",
       "      <td>0.000000</td>\n",
       "      <td>1.333870e+06</td>\n",
       "      <td>0.000000</td>\n",
       "      <td>0.000000</td>\n",
       "      <td>0.000000</td>\n",
       "    </tr>\n",
       "    <tr>\n",
       "      <th>25%</th>\n",
       "      <td>11.000000</td>\n",
       "      <td>36.000000</td>\n",
       "      <td>0.500000</td>\n",
       "      <td>1614.000000</td>\n",
       "      <td>5.356913e+06</td>\n",
       "      <td>0.000000</td>\n",
       "      <td>1000.000000</td>\n",
       "      <td>0.000000</td>\n",
       "    </tr>\n",
       "    <tr>\n",
       "      <th>50%</th>\n",
       "      <td>17.000000</td>\n",
       "      <td>47.000000</td>\n",
       "      <td>0.750000</td>\n",
       "      <td>4505.000000</td>\n",
       "      <td>1.297430e+07</td>\n",
       "      <td>0.000000</td>\n",
       "      <td>2000.000000</td>\n",
       "      <td>0.000000</td>\n",
       "    </tr>\n",
       "    <tr>\n",
       "      <th>75%</th>\n",
       "      <td>25.000000</td>\n",
       "      <td>58.000000</td>\n",
       "      <td>1.000000</td>\n",
       "      <td>9709.000000</td>\n",
       "      <td>1.450909e+07</td>\n",
       "      <td>1.000000</td>\n",
       "      <td>3000.000000</td>\n",
       "      <td>0.000000</td>\n",
       "    </tr>\n",
       "    <tr>\n",
       "      <th>max</th>\n",
       "      <td>79.000000</td>\n",
       "      <td>92.000000</td>\n",
       "      <td>1.000000</td>\n",
       "      <td>63391.000000</td>\n",
       "      <td>1.004090e+08</td>\n",
       "      <td>7.000000</td>\n",
       "      <td>25000.000000</td>\n",
       "      <td>1.000000</td>\n",
       "    </tr>\n",
       "  </tbody>\n",
       "</table>\n",
       "</div>"
      ],
      "text/plain": [
       "              TRADES            AGE       BRPCTSAT           RBAL  \\\n",
       "count  100000.000000  100000.000000  100000.000000  100000.000000   \n",
       "mean       18.780900      47.649340       0.682618    7227.307740   \n",
       "std        10.312875      15.040437       0.290981    8390.777673   \n",
       "min         1.000000      18.000000       0.000000       0.000000   \n",
       "25%        11.000000      36.000000       0.500000    1614.000000   \n",
       "50%        17.000000      47.000000       0.750000    4505.000000   \n",
       "75%        25.000000      58.000000       1.000000    9709.000000   \n",
       "max        79.000000      92.000000       1.000000   63391.000000   \n",
       "\n",
       "           MATCHKEY         DELQID         CRELIM        goodbad  \n",
       "count  1.000000e+05  100000.000000  100000.000000  100000.000000  \n",
       "mean   1.351786e+07       1.293670    2206.648510       0.175700  \n",
       "std    1.622330e+07       2.248541    1441.512182       0.380567  \n",
       "min    1.333870e+06       0.000000       0.000000       0.000000  \n",
       "25%    5.356913e+06       0.000000    1000.000000       0.000000  \n",
       "50%    1.297430e+07       0.000000    2000.000000       0.000000  \n",
       "75%    1.450909e+07       1.000000    3000.000000       0.000000  \n",
       "max    1.004090e+08       7.000000   25000.000000       1.000000  "
      ]
     },
     "execution_count": 11,
     "metadata": {},
     "output_type": "execute_result"
    }
   ],
   "source": [
    "df.describe()"
   ]
  },
  {
   "cell_type": "code",
   "execution_count": 12,
   "metadata": {},
   "outputs": [
    {
     "name": "stdout",
     "output_type": "stream",
     "text": [
      "<class 'pandas.core.frame.DataFrame'>\n",
      "RangeIndex: 100000 entries, 0 to 99999\n",
      "Data columns (total 8 columns):\n",
      " #   Column    Non-Null Count   Dtype  \n",
      "---  ------    --------------   -----  \n",
      " 0   TRADES    100000 non-null  int64  \n",
      " 1   AGE       100000 non-null  int64  \n",
      " 2   BRPCTSAT  100000 non-null  float64\n",
      " 3   RBAL      100000 non-null  int64  \n",
      " 4   MATCHKEY  100000 non-null  int64  \n",
      " 5   DELQID    100000 non-null  int64  \n",
      " 6   CRELIM    100000 non-null  int64  \n",
      " 7   goodbad   100000 non-null  int64  \n",
      "dtypes: float64(1), int64(7)\n",
      "memory usage: 6.1 MB\n"
     ]
    }
   ],
   "source": [
    "df.info()"
   ]
  },
  {
   "cell_type": "code",
   "execution_count": 13,
   "metadata": {},
   "outputs": [
    {
     "data": {
      "text/plain": [
       "array([[<matplotlib.axes._subplots.AxesSubplot object at 0x7fd102bf6340>,\n",
       "        <matplotlib.axes._subplots.AxesSubplot object at 0x7fd102c547c0>,\n",
       "        <matplotlib.axes._subplots.AxesSubplot object at 0x7fd102c82c40>],\n",
       "       [<matplotlib.axes._subplots.AxesSubplot object at 0x7fd102caf160>,\n",
       "        <matplotlib.axes._subplots.AxesSubplot object at 0x7fd102ce6550>,\n",
       "        <matplotlib.axes._subplots.AxesSubplot object at 0x7fd102d128e0>],\n",
       "       [<matplotlib.axes._subplots.AxesSubplot object at 0x7fd102d129d0>,\n",
       "        <matplotlib.axes._subplots.AxesSubplot object at 0x7fd102d40e80>,\n",
       "        <matplotlib.axes._subplots.AxesSubplot object at 0x7fd102da6610>]],\n",
       "      dtype=object)"
      ]
     },
     "execution_count": 13,
     "metadata": {},
     "output_type": "execute_result"
    },
    {
     "data": {
      "image/png": "[encoded data removed]",
      "text/plain": [
       "<Figure size 432x288 with 9 Axes>"
      ]
     },
     "metadata": {
      "needs_background": "light"
     },
     "output_type": "display_data"
    }
   ],
   "source": [
    "dataTypes = dict(df.dtypes)\n",
    "df.hist(bins=10)"
   ]
  },
  {
   "cell_type": "code",
   "execution_count": 18,
   "metadata": {},
   "outputs": [
    {
     "data": {
      "text/html": [
       "<div>\n",
       "<style scoped>\n",
       "    .dataframe tbody tr th:only-of-type {\n",
       "        vertical-align: middle;\n",
       "    }\n",
       "\n",
       "    .dataframe tbody tr th {\n",
       "        vertical-align: top;\n",
       "    }\n",
       "\n",
       "    .dataframe thead th {\n",
       "        text-align: right;\n",
       "    }\n",
       "</style>\n",
       "<table border=\"1\" class=\"dataframe\">\n",
       "  <thead>\n",
       "    <tr style=\"text-align: right;\">\n",
       "      <th></th>\n",
       "      <th>TRADES</th>\n",
       "      <th>AGE</th>\n",
       "      <th>DELQID</th>\n",
       "      <th>goodbad</th>\n",
       "    </tr>\n",
       "  </thead>\n",
       "  <tbody>\n",
       "    <tr>\n",
       "      <th>0</th>\n",
       "      <td>34</td>\n",
       "      <td>49</td>\n",
       "      <td>0</td>\n",
       "      <td>0</td>\n",
       "    </tr>\n",
       "    <tr>\n",
       "      <th>1</th>\n",
       "      <td>35</td>\n",
       "      <td>48</td>\n",
       "      <td>7</td>\n",
       "      <td>1</td>\n",
       "    </tr>\n",
       "    <tr>\n",
       "      <th>2</th>\n",
       "      <td>33</td>\n",
       "      <td>47</td>\n",
       "      <td>1</td>\n",
       "      <td>0</td>\n",
       "    </tr>\n",
       "    <tr>\n",
       "      <th>3</th>\n",
       "      <td>34</td>\n",
       "      <td>42</td>\n",
       "      <td>0</td>\n",
       "      <td>0</td>\n",
       "    </tr>\n",
       "    <tr>\n",
       "      <th>4</th>\n",
       "      <td>18</td>\n",
       "      <td>48</td>\n",
       "      <td>0</td>\n",
       "      <td>0</td>\n",
       "    </tr>\n",
       "    <tr>\n",
       "      <th>...</th>\n",
       "      <td>...</td>\n",
       "      <td>...</td>\n",
       "      <td>...</td>\n",
       "      <td>...</td>\n",
       "    </tr>\n",
       "    <tr>\n",
       "      <th>99995</th>\n",
       "      <td>3</td>\n",
       "      <td>19</td>\n",
       "      <td>7</td>\n",
       "      <td>1</td>\n",
       "    </tr>\n",
       "    <tr>\n",
       "      <th>99996</th>\n",
       "      <td>22</td>\n",
       "      <td>75</td>\n",
       "      <td>0</td>\n",
       "      <td>0</td>\n",
       "    </tr>\n",
       "    <tr>\n",
       "      <th>99997</th>\n",
       "      <td>8</td>\n",
       "      <td>35</td>\n",
       "      <td>1</td>\n",
       "      <td>0</td>\n",
       "    </tr>\n",
       "    <tr>\n",
       "      <th>99998</th>\n",
       "      <td>37</td>\n",
       "      <td>55</td>\n",
       "      <td>0</td>\n",
       "      <td>0</td>\n",
       "    </tr>\n",
       "    <tr>\n",
       "      <th>99999</th>\n",
       "      <td>28</td>\n",
       "      <td>41</td>\n",
       "      <td>0</td>\n",
       "      <td>0</td>\n",
       "    </tr>\n",
       "  </tbody>\n",
       "</table>\n",
       "<p>100000 rows × 4 columns</p>\n",
       "</div>"
      ],
      "text/plain": [
       "       TRADES  AGE  DELQID  goodbad\n",
       "0          34   49       0        0\n",
       "1          35   48       7        1\n",
       "2          33   47       1        0\n",
       "3          34   42       0        0\n",
       "4          18   48       0        0\n",
       "...       ...  ...     ...      ...\n",
       "99995       3   19       7        1\n",
       "99996      22   75       0        0\n",
       "99997       8   35       1        0\n",
       "99998      37   55       0        0\n",
       "99999      28   41       0        0\n",
       "\n",
       "[100000 rows x 4 columns]"
      ]
     },
     "execution_count": 18,
     "metadata": {},
     "output_type": "execute_result"
    }
   ],
   "source": [
    "# dataTypes\n",
    "# print(str(dataTypes['TRADES']))\n",
    "discreetData = ['TRADES', 'AGE', 'DELQID','goodbad']\n",
    "nonDiscreetData = ['BRPCTSAT', 'RBAL', 'CRELIM', 'TRADES']\n",
    "nonDiscreetDataFrame = data[nonDiscreetData].copy()\n",
    "discreetDataFrame = data[discreetData].copy()\n",
    "discreetDataFrame"
   ]
  },
  {
   "cell_type": "code",
   "execution_count": 27,
   "metadata": {},
   "outputs": [
    {
     "data": {
      "text/plain": [
       "<matplotlib.axes._subplots.AxesSubplot at 0x7f8f11d8c8e0>"
      ]
     },
     "execution_count": 27,
     "metadata": {},
     "output_type": "execute_result"
    },
    {
     "data": {
      "image/png": "[encoded data removed]",
      "text/plain": [
       "<Figure size 432x288 with 1 Axes>"
      ]
     },
     "metadata": {
      "needs_background": "light"
     },
     "output_type": "display_data"
    }
   ],
   "source": [
    "discreetDataFrame['TRADES'].hist(bins=78)"
   ]
  },
  {
   "cell_type": "code",
   "execution_count": 20,
   "metadata": {},
   "outputs": [
    {
     "data": {
      "text/plain": [
       "<matplotlib.axes._subplots.AxesSubplot at 0x7fd100d7d940>"
      ]
     },
     "execution_count": 20,
     "metadata": {},
     "output_type": "execute_result"
    },
    {
     "data": {
      "image/png": "[encoded data removed]",
      "text/plain": [
       "<Figure size 432x288 with 1 Axes>"
      ]
     },
     "metadata": {
      "needs_background": "light"
     },
     "output_type": "display_data"
    }
   ],
   "source": [
    "discreetDataFrame['AGE'].hist(bins=10)"
   ]
  },
  {
   "cell_type": "code",
   "execution_count": 29,
   "metadata": {},
   "outputs": [
    {
     "data": {
      "text/plain": [
       "<matplotlib.axes._subplots.AxesSubplot at 0x7f8f11f8d910>"
      ]
     },
     "execution_count": 29,
     "metadata": {},
     "output_type": "execute_result"
    },
    {
     "data": {
      "image/png": "[encoded data removed]",
      "text/plain": [
       "<Figure size 432x288 with 1 Axes>"
      ]
     },
     "metadata": {
      "needs_background": "light"
     },
     "output_type": "display_data"
    }
   ],
   "source": [
    "discreetDataFrame['DELQID'].hist(bins=8)"
   ]
  },
  {
   "cell_type": "code",
   "execution_count": 30,
   "metadata": {},
   "outputs": [
    {
     "data": {
      "text/plain": [
       "<matplotlib.axes._subplots.AxesSubplot at 0x7f8f120056a0>"
      ]
     },
     "execution_count": 30,
     "metadata": {},
     "output_type": "execute_result"
    },
    {
     "data": {
      "image/png": "[encoded data removed]",
      "text/plain": [
       "<Figure size 432x288 with 1 Axes>"
      ]
     },
     "metadata": {
      "needs_background": "light"
     },
     "output_type": "display_data"
    }
   ],
   "source": [
    "discreetDataFrame['goodbad'].hist(bins=2)"
   ]
  },
  {
   "cell_type": "code",
   "execution_count": 15,
   "metadata": {},
   "outputs": [
    {
     "data": {
      "text/plain": [
       "<matplotlib.axes._subplots.AxesSubplot at 0x7fd0ffbf6760>"
      ]
     },
     "execution_count": 15,
     "metadata": {},
     "output_type": "execute_result"
    },
    {
     "data": {
      "image/png": "[encoded data removed]",
      "text/plain": [
       "<Figure size 432x288 with 1 Axes>"
      ]
     },
     "metadata": {
      "needs_background": "light"
     },
     "output_type": "display_data"
    }
   ],
   "source": [
    "nonDiscreetDataFrame['BRPCTSAT'].hist(bins=10)"
   ]
  },
  {
   "cell_type": "code",
   "execution_count": 23,
   "metadata": {},
   "outputs": [
    {
     "data": {
      "text/plain": [
       "<matplotlib.axes._subplots.AxesSubplot at 0x7fd103e149a0>"
      ]
     },
     "execution_count": 23,
     "metadata": {},
     "output_type": "execute_result"
    },
    {
     "data": {
      "image/png": "[encoded data removed]",
      "text/plain": [
       "<Figure size 432x288 with 1 Axes>"
      ]
     },
     "metadata": {
      "needs_background": "light"
     },
     "output_type": "display_data"
    }
   ],
   "source": [
    "nonDiscreetDataFrame['TRADES'].hist(bins=12)"
   ]
  },
  {
   "cell_type": "code",
   "execution_count": null,
   "metadata": {},
   "outputs": [],
   "source": []
  }
 ],
 "metadata": {
  "kernelspec": {
   "display_name": "Python 3",
   "language": "python",
   "name": "python3"
  },
  "language_info": {
   "codemirror_mode": {
    "name": "ipython",
    "version": 3
   },
   "file_extension": ".py",
   "mimetype": "text/x-python",
   "name": "python",
   "nbconvert_exporter": "python",
   "pygments_lexer": "ipython3",
   "version": "3.8.3"
  }
 },
 "nbformat": 4,
 "nbformat_minor": 4
}
